{
  "nbformat": 4,
  "nbformat_minor": 0,
  "metadata": {
    "colab": {
      "provenance": [],
      "authorship_tag": "ABX9TyNQVV7QQa/ybgAo442RiXPO",
      "include_colab_link": true
    },
    "kernelspec": {
      "name": "python3",
      "display_name": "Python 3"
    },
    "language_info": {
      "name": "python"
    }
  },
  "cells": [
    {
      "cell_type": "markdown",
      "metadata": {
        "id": "view-in-github",
        "colab_type": "text"
      },
      "source": [
        "<a href=\"https://colab.research.google.com/github/pipal2004/ML_DL_Practice_Hub/blob/main/Regression.ipynb\" target=\"_parent\"><img src=\"https://colab.research.google.com/assets/colab-badge.svg\" alt=\"Open In Colab\"/></a>"
      ]
    },
    {
      "cell_type": "code",
      "execution_count": null,
      "metadata": {
        "colab": {
          "base_uri": "https://localhost:8080/"
        },
        "id": "qWiAL3lD_AtM",
        "outputId": "d27393b5-6dec-4c11-bb0a-f7918a4467c4"
      },
      "outputs": [
        {
          "output_type": "stream",
          "name": "stdout",
          "text": [
            "Sample Data:\n",
            "    Hours  Scores\n",
            "0    1.0      15\n",
            "1    2.5      25\n",
            "2    3.0      35\n",
            "3    4.2      45\n",
            "4    5.0      55\n"
          ]
        },
        {
          "output_type": "stream",
          "name": "stderr",
          "text": [
            "/usr/local/lib/python3.12/dist-packages/keras/src/layers/rnn/rnn.py:199: UserWarning: Do not pass an `input_shape`/`input_dim` argument to a layer. When using Sequential models, prefer using an `Input(shape)` object as the first layer in the model instead.\n",
            "  super().__init__(**kwargs)\n"
          ]
        },
        {
          "output_type": "stream",
          "name": "stdout",
          "text": [
            "\u001b[1m1/1\u001b[0m \u001b[32m━━━━━━━━━━━━━━━━━━━━\u001b[0m\u001b[37m\u001b[0m \u001b[1m0s\u001b[0m 155ms/step\n"
          ]
        },
        {
          "output_type": "stream",
          "name": "stderr",
          "text": [
            "/usr/local/lib/python3.12/dist-packages/keras/src/layers/rnn/rnn.py:199: UserWarning: Do not pass an `input_shape`/`input_dim` argument to a layer. When using Sequential models, prefer using an `Input(shape)` object as the first layer in the model instead.\n",
            "  super().__init__(**kwargs)\n"
          ]
        },
        {
          "output_type": "stream",
          "name": "stdout",
          "text": [
            "\u001b[1m1/1\u001b[0m \u001b[32m━━━━━━━━━━━━━━━━━━━━\u001b[0m\u001b[37m\u001b[0m \u001b[1m0s\u001b[0m 176ms/step\n"
          ]
        },
        {
          "output_type": "stream",
          "name": "stderr",
          "text": [
            "/usr/local/lib/python3.12/dist-packages/keras/src/layers/rnn/bidirectional.py:107: UserWarning: Do not pass an `input_shape`/`input_dim` argument to a layer. When using Sequential models, prefer using an `Input(shape)` object as the first layer in the model instead.\n",
            "  super().__init__(**kwargs)\n"
          ]
        },
        {
          "output_type": "stream",
          "name": "stdout",
          "text": [
            "\u001b[1m1/1\u001b[0m \u001b[32m━━━━━━━━━━━━━━━━━━━━\u001b[0m\u001b[37m\u001b[0m \u001b[1m0s\u001b[0m 331ms/step\n"
          ]
        },
        {
          "output_type": "stream",
          "name": "stderr",
          "text": [
            "/usr/local/lib/python3.12/dist-packages/keras/src/layers/rnn/rnn.py:199: UserWarning: Do not pass an `input_shape`/`input_dim` argument to a layer. When using Sequential models, prefer using an `Input(shape)` object as the first layer in the model instead.\n",
            "  super().__init__(**kwargs)\n"
          ]
        },
        {
          "output_type": "stream",
          "name": "stdout",
          "text": [
            "\u001b[1m1/1\u001b[0m \u001b[32m━━━━━━━━━━━━━━━━━━━━\u001b[0m\u001b[37m\u001b[0m \u001b[1m0s\u001b[0m 215ms/step\n"
          ]
        },
        {
          "output_type": "stream",
          "name": "stderr",
          "text": [
            "/usr/local/lib/python3.12/dist-packages/keras/src/layers/rnn/bidirectional.py:107: UserWarning: Do not pass an `input_shape`/`input_dim` argument to a layer. When using Sequential models, prefer using an `Input(shape)` object as the first layer in the model instead.\n",
            "  super().__init__(**kwargs)\n",
            "WARNING:tensorflow:5 out of the last 5 calls to <function TensorFlowTrainer.make_predict_function.<locals>.one_step_on_data_distributed at 0x7c0a5bf30400> triggered tf.function retracing. Tracing is expensive and the excessive number of tracings could be due to (1) creating @tf.function repeatedly in a loop, (2) passing tensors with different shapes, (3) passing Python objects instead of tensors. For (1), please define your @tf.function outside of the loop. For (2), @tf.function has reduce_retracing=True option that can avoid unnecessary retracing. For (3), please refer to https://www.tensorflow.org/guide/function#controlling_retracing and https://www.tensorflow.org/api_docs/python/tf/function for  more details.\n"
          ]
        },
        {
          "output_type": "stream",
          "name": "stdout",
          "text": [
            "\u001b[1m1/1\u001b[0m \u001b[32m━━━━━━━━━━━━━━━━━━━━\u001b[0m\u001b[37m\u001b[0m \u001b[1m0s\u001b[0m 416ms/step\n",
            "\n",
            "Model Performance (MSE & R2):\n",
            "                              MSE        R2\n",
            "Linear Regression       10.653734  0.989914\n",
            "SVM                    935.402406  0.114412\n",
            "Random Forest           20.740000  0.980364\n",
            "XGBoost                162.491196  0.846162\n",
            "KNN                     90.277778  0.914530\n",
            "Naive Bayes (approx)    62.500000  0.940828\n",
            "MLP (Sklearn)           31.226780  0.970436\n",
            "RNN                   3824.566650 -2.620892\n",
            "LSTM                  4067.674072 -2.851052\n",
            "BiLSTM                3942.856445 -2.732882\n",
            "GRU                   3934.954834 -2.725401\n",
            "BiGRU                 3570.565918 -2.380417\n"
          ]
        }
      ],
      "source": [
        "# Student Score Regression\n",
        "# Import Libraries\n",
        "import numpy as np\n",
        "import pandas as pd\n",
        "import matplotlib.pyplot as plt\n",
        "from sklearn.model_selection import train_test_split\n",
        "from sklearn.metrics import mean_squared_error, r2_score\n",
        "\n",
        "# ML Models\n",
        "from sklearn.linear_model import LinearRegression\n",
        "from sklearn.svm import SVR\n",
        "from sklearn.ensemble import RandomForestRegressor\n",
        "from xgboost import XGBRegressor\n",
        "from sklearn.neighbors import KNeighborsRegressor\n",
        "from sklearn.naive_bayes import GaussianNB\n",
        "from sklearn.preprocessing import StandardScaler\n",
        "\n",
        "# Deep Learning\n",
        "from sklearn.neural_network import MLPRegressor\n",
        "import tensorflow as tf\n",
        "from tensorflow.keras.models import Sequential\n",
        "from tensorflow.keras.layers import Dense, SimpleRNN, LSTM, GRU, Bidirectional\n",
        "\n",
        "# Create Dataset\n",
        "data = {\n",
        "    \"Hours\": [1.0, 2.5, 3.0, 4.2, 5.0, 6.0, 7.0, 8.5, 9.0],\n",
        "    \"Scores\": [15, 25, 35, 45, 55, 65, 75, 90, 95]\n",
        "}\n",
        "\n",
        "df = pd.DataFrame(data)\n",
        "print(\"Sample Data:\\n\", df.head())\n",
        "\n",
        "# Split Data\n",
        "X = df[['Hours']].values\n",
        "y = df['Scores'].values\n",
        "X_train, X_test, y_train, y_test = train_test_split(X, y, test_size=0.2, random_state=42)\n",
        "\n",
        "# Machine Learning Models\n",
        "models = {\n",
        "    \"Linear Regression\": LinearRegression(),\n",
        "    \"SVM\": SVR(kernel='rbf'),\n",
        "    \"Random Forest\": RandomForestRegressor(n_estimators=100, random_state=42),\n",
        "    \"XGBoost\": XGBRegressor(objective='reg:squarederror', random_state=42),\n",
        "    \"KNN\": KNeighborsRegressor(n_neighbors=3),\n",
        "}\n",
        "\n",
        "results = {}\n",
        "for name, model in models.items():\n",
        "    model.fit(X_train, y_train)\n",
        "    preds = model.predict(X_test)\n",
        "    mse = mean_squared_error(y_test, preds)\n",
        "    r2 = r2_score(y_test, preds)\n",
        "    results[name] = {\"MSE\": mse, \"R2\": r2}\n",
        "\n",
        "# Naive Bayes (approx for regression)\n",
        "scaler = StandardScaler()\n",
        "X_train_scaled = scaler.fit_transform(X_train)\n",
        "X_test_scaled = scaler.transform(X_test)\n",
        "nb = GaussianNB()\n",
        "y_train_int = np.round(y_train)\n",
        "nb.fit(X_train_scaled, y_train_int)\n",
        "preds = nb.predict(X_test_scaled)\n",
        "results[\"Naive Bayes (approx)\"] = {\"MSE\": mean_squared_error(y_test, preds), \"R2\": r2_score(y_test, preds)}\n",
        "\n",
        "# Deep Learning Models\n",
        "# (a) MLP (Sklearn)\n",
        "mlp = MLPRegressor(hidden_layer_sizes=(64,32), max_iter=2000, random_state=42)\n",
        "mlp.fit(X_train, y_train)\n",
        "preds = mlp.predict(X_test)\n",
        "results[\"MLP (Sklearn)\"] = {\"MSE\": mean_squared_error(y_test, preds), \"R2\": r2_score(y_test, preds)}\n",
        "\n",
        "# (b) Neural Nets with TensorFlow\n",
        "X_train_rnn = np.expand_dims(X_train, axis=1)\n",
        "X_test_rnn = np.expand_dims(X_test, axis=1)\n",
        "\n",
        "def build_and_train(model, name):\n",
        "    model.compile(optimizer='adam', loss='mse')\n",
        "    model.fit(X_train_rnn, y_train, epochs=100, verbose=0)\n",
        "    preds = model.predict(X_test_rnn).flatten()\n",
        "    results[name] = {\"MSE\": mean_squared_error(y_test, preds), \"R2\": r2_score(y_test, preds)}\n",
        "\n",
        "# RNN\n",
        "rnn = Sequential([SimpleRNN(32, input_shape=(1,1)), Dense(1)])\n",
        "build_and_train(rnn, \"RNN\")\n",
        "\n",
        "# LSTM\n",
        "lstm = Sequential([LSTM(32, input_shape=(1,1)), Dense(1)])\n",
        "build_and_train(lstm, \"LSTM\")\n",
        "\n",
        "# BiLSTM\n",
        "bilstm = Sequential([Bidirectional(LSTM(32), input_shape=(1,1)), Dense(1)])\n",
        "build_and_train(bilstm, \"BiLSTM\")\n",
        "\n",
        "# GRU\n",
        "gru = Sequential([GRU(32, input_shape=(1,1)), Dense(1)])\n",
        "build_and_train(gru, \"GRU\")\n",
        "\n",
        "# BiGRU\n",
        "bigru = Sequential([Bidirectional(GRU(32), input_shape=(1,1)), Dense(1)])\n",
        "build_and_train(bigru, \"BiGRU\")\n",
        "\n",
        "# Show Results\n",
        "print(\"\\nModel Performance (MSE & R2):\")\n",
        "print(pd.DataFrame(results).T)"
      ]
    }
  ]
}